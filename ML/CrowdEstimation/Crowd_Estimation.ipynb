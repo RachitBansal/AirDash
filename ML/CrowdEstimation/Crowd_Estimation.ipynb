{
  "nbformat": 4,
  "nbformat_minor": 0,
  "metadata": {
    "colab": {
      "name": "Crowd_Estimation.ipynb",
      "provenance": [],
      "collapsed_sections": [],
      "include_colab_link": true
    },
    "kernelspec": {
      "name": "python3",
      "display_name": "Python 3"
    },
    "accelerator": "GPU"
  },
  "cells": [
    {
      "cell_type": "markdown",
      "metadata": {
        "id": "view-in-github",
        "colab_type": "text"
      },
      "source": [
        "<a href=\"https://colab.research.google.com/github/rachitsaksena/AirDash/blob/master/ML/CrowdEstimation/Crowd_Estimation.ipynb\" target=\"_parent\"><img src=\"https://colab.research.google.com/assets/colab-badge.svg\" alt=\"Open In Colab\"/></a>"
      ]
    },
    {
      "cell_type": "code",
      "metadata": {
        "id": "9moWmE2ndvMl",
        "colab_type": "code",
        "outputId": "abb51e7e-0701-44c1-9dc8-6e3251b7df19",
        "colab": {
          "base_uri": "https://localhost:8080/",
          "height": 34
        }
      },
      "source": [
        "from google.colab import drive\n",
        "drive.mount('/content/drive')"
      ],
      "execution_count": 5,
      "outputs": [
        {
          "output_type": "stream",
          "text": [
            "Drive already mounted at /content/drive; to attempt to forcibly remount, call drive.mount(\"/content/drive\", force_remount=True).\n"
          ],
          "name": "stdout"
        }
      ]
    },
    {
      "cell_type": "code",
      "metadata": {
        "id": "mvbjMxRRdw9u",
        "colab_type": "code",
        "outputId": "65e779c9-c5a3-4eea-9434-40fea428bcda",
        "colab": {
          "base_uri": "https://localhost:8080/",
          "height": 34
        }
      },
      "source": [
        "%cd \"/content/drive/My Drive/Crowd_Estimation_SIH\""
      ],
      "execution_count": 6,
      "outputs": [
        {
          "output_type": "stream",
          "text": [
            "/content/drive/My Drive/Crowd_Estimation_SIH\n"
          ],
          "name": "stdout"
        }
      ]
    },
    {
      "cell_type": "code",
      "metadata": {
        "id": "In64mmmWepA5",
        "colab_type": "code",
        "outputId": "4d20da7a-79ab-485c-80fb-46c69176c223",
        "colab": {
          "base_uri": "https://localhost:8080/",
          "height": 69
        }
      },
      "source": [
        "!ls"
      ],
      "execution_count": 3,
      "outputs": [
        {
          "output_type": "stream",
          "text": [
            "IOtools.py\t main_process.py  Network      requirements.txt  Test_Data\n",
            "LICENSE\t\t model\t\t  __pycache__  S-DCNet\t\t Test_Data.zip\n",
            "load_data_V2.py  model.zip\t  README.md    SHAB_main.py\t Val.py\n"
          ],
          "name": "stdout"
        }
      ]
    },
    {
      "cell_type": "code",
      "metadata": {
        "id": "dhLQHyxGhPXl",
        "colab_type": "code",
        "outputId": "4d8a33e3-f23d-4102-8e41-905074162973",
        "colab": {
          "base_uri": "https://localhost:8080/",
          "height": 1000
        }
      },
      "source": [
        "!python SHAB_main.py"
      ],
      "execution_count": 10,
      "outputs": [
        {
          "output_type": "stream",
          "text": [
            "========================================================================\n",
            "Begin to test for SH_partA_Density_map\n",
            "tensor(206.7305, device='cuda:0') tensor(172., device='cuda:0')\n",
            "tensor(466.9819, device='cuda:0') tensor(502., device='cuda:0')\n",
            "tensor(394.7698, device='cuda:0') tensor(391., device='cuda:0')\n",
            "tensor(226.0434, device='cuda:0') tensor(211., device='cuda:0')\n",
            "tensor(213.3202, device='cuda:0') tensor(223., device='cuda:0')\n",
            "tensor(487.4898, device='cuda:0') tensor(431., device='cuda:0')\n",
            "tensor(1149.9136, device='cuda:0') tensor(1175., device='cuda:0')\n",
            "tensor(206.4388, device='cuda:0') tensor(265., device='cuda:0')\n",
            "tensor(1005.0510, device='cuda:0') tensor(1232., device='cuda:0')\n",
            "tensor(180.7162, device='cuda:0') tensor(294., device='cuda:0')\n",
            "tensor(182.5060, device='cuda:0') tensor(182., device='cuda:0')\n",
            "tensor(328.4224, device='cuda:0') tensor(379., device='cuda:0')\n",
            "tensor(1013.2465, device='cuda:0') tensor(1068., device='cuda:0')\n",
            "tensor(825.4808, device='cuda:0') tensor(1023., device='cuda:0')\n",
            "tensor(411.2374, device='cuda:0') tensor(452., device='cuda:0')\n",
            "tensor(348.5018, device='cuda:0') tensor(256., device='cuda:0')\n",
            "tensor(145.4370, device='cuda:0') tensor(66., device='cuda:0')\n",
            "tensor(150.7656, device='cuda:0') tensor(141., device='cuda:0')\n",
            "tensor(1447.0350, device='cuda:0') tensor(1195., device='cuda:0')\n",
            "tensor(381.4948, device='cuda:0') tensor(289., device='cuda:0')\n",
            "tensor(1588.6997, device='cuda:0') tensor(1603., device='cuda:0')\n",
            "tensor(247.7208, device='cuda:0') tensor(241., device='cuda:0')\n",
            "tensor(273.1372, device='cuda:0') tensor(251., device='cuda:0')\n",
            "tensor(162.6501, device='cuda:0') tensor(321., device='cuda:0')\n",
            "tensor(119.0694, device='cuda:0') tensor(133., device='cuda:0')\n",
            "tensor(1485.2253, device='cuda:0') tensor(1210., device='cuda:0')\n",
            "tensor(790.5883, device='cuda:0') tensor(1153., device='cuda:0')\n",
            "tensor(102.5665, device='cuda:0') tensor(115., device='cuda:0')\n",
            "tensor(180.2866, device='cuda:0') tensor(226., device='cuda:0')\n",
            "tensor(259.4482, device='cuda:0') tensor(269., device='cuda:0')\n",
            "Traceback (most recent call last):\n",
            "  File \"SHAB_main.py\", line 41, in <module>\n",
            "    main(opt)\n",
            "  File \"/content/drive/My Drive/Crowd_Estimation_SIH/main_process.py\", line 75, in main\n",
            "    mae,rmse,me = test_phase(opt,net,testloader,log_save_path=log_save_path)\n",
            "  File \"/content/drive/My Drive/Crowd_Estimation_SIH/Val.py\", line 42, in test_phase\n",
            "    div_res = net.resample(features)\n",
            "  File \"/content/drive/My Drive/Crowd_Estimation_SIH/Network/SDCNet.py\", line 299, in resample\n",
            "    new_conv4 = self.up45(feature_map['conv5'],feature_map['conv4'])\n",
            "  File \"/usr/local/lib/python3.6/dist-packages/torch/nn/modules/module.py\", line 541, in __call__\n",
            "    result = self.forward(*input, **kwargs)\n",
            "  File \"/content/drive/My Drive/Crowd_Estimation_SIH/Network/SDCNet.py\", line 129, in forward\n",
            "    x1 = self.conv1(x1)\n",
            "  File \"/usr/local/lib/python3.6/dist-packages/torch/nn/modules/module.py\", line 541, in __call__\n",
            "    result = self.forward(*input, **kwargs)\n",
            "  File \"/content/drive/My Drive/Crowd_Estimation_SIH/Network/SDCNet.py\", line 52, in forward\n",
            "    x = self.conv(x)\n",
            "  File \"/usr/local/lib/python3.6/dist-packages/torch/nn/modules/module.py\", line 541, in __call__\n",
            "    result = self.forward(*input, **kwargs)\n",
            "  File \"/usr/local/lib/python3.6/dist-packages/torch/nn/modules/container.py\", line 92, in forward\n",
            "    input = module(input)\n",
            "  File \"/usr/local/lib/python3.6/dist-packages/torch/nn/modules/module.py\", line 541, in __call__\n",
            "    result = self.forward(*input, **kwargs)\n",
            "  File \"/usr/local/lib/python3.6/dist-packages/torch/nn/modules/conv.py\", line 345, in forward\n",
            "    return self.conv2d_forward(input, self.weight)\n",
            "  File \"/usr/local/lib/python3.6/dist-packages/torch/nn/modules/conv.py\", line 342, in conv2d_forward\n",
            "    self.padding, self.dilation, self.groups)\n",
            "KeyboardInterrupt\n"
          ],
          "name": "stdout"
        }
      ]
    }
  ]
}